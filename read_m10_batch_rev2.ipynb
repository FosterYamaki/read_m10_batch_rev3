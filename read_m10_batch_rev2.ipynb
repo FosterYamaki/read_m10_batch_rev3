{
 "cells": [
  {
   "cell_type": "markdown",
   "id": "176aqdlmFRJi",
   "metadata": {
    "id": "176aqdlmFRJi"
   },
   "source": [
    "# Imports"
   ]
  },
  {
   "cell_type": "code",
   "execution_count": 1,
   "id": "5881076b-6c0e-4d26-af65-f283e561d304",
   "metadata": {
    "executionInfo": {
     "elapsed": 271,
     "status": "ok",
     "timestamp": 1683801888550,
     "user": {
      "displayName": "Shintaro Yamaki (FYST)",
      "userId": "03592761461968219225"
     },
     "user_tz": -540
    },
    "id": "5881076b-6c0e-4d26-af65-f283e561d304"
   },
   "outputs": [],
   "source": [
    "import numpy as np\n",
    "import pandas as pd\n",
    "import matplotlib.pyplot as plt\n",
    "import math\n",
    "import glob\n",
    "from utils.m10_processing import M10_Processing, m10_batch"
   ]
  },
  {
   "cell_type": "markdown",
   "id": "GwWhEBJoFXX4",
   "metadata": {
    "id": "GwWhEBJoFXX4",
    "jp-MarkdownHeadingCollapsed": true,
    "jupyter": {
     "source_hidden": true
    },
    "tags": []
   },
   "source": [
    "# Mount Google Drive"
   ]
  },
  {
   "cell_type": "code",
   "execution_count": 56,
   "id": "55QNYFClES9n",
   "metadata": {
    "colab": {
     "base_uri": "https://localhost:8080/"
    },
    "executionInfo": {
     "elapsed": 2170,
     "status": "ok",
     "timestamp": 1683801890716,
     "user": {
      "displayName": "Shintaro Yamaki (FYST)",
      "userId": "03592761461968219225"
     },
     "user_tz": -540
    },
    "id": "55QNYFClES9n",
    "outputId": "3a47acec-b63f-42cf-e45f-e78bb6e3acb5"
   },
   "outputs": [
    {
     "name": "stdout",
     "output_type": "stream",
     "text": [
      "Drive already mounted at /content/drive; to attempt to forcibly remount, call drive.mount(\"/content/drive\", force_remount=True).\n"
     ]
    }
   ],
   "source": [
    "from google.colab import drive\n",
    "drive.mount('/content/drive')"
   ]
  },
  {
   "cell_type": "markdown",
   "id": "Gs71iQENFdly",
   "metadata": {
    "id": "Gs71iQENFdly"
   },
   "source": [
    "# Summarize Data from M10 file"
   ]
  },
  {
   "cell_type": "code",
   "execution_count": 3,
   "id": "JznTYirkJ2qH",
   "metadata": {
    "colab": {
     "base_uri": "https://localhost:8080/"
    },
    "executionInfo": {
     "elapsed": 1337,
     "status": "ok",
     "timestamp": 1683801900200,
     "user": {
      "displayName": "Shintaro Yamaki (FYST)",
      "userId": "03592761461968219225"
     },
     "user_tz": -540
    },
    "id": "JznTYirkJ2qH",
    "outputId": "16d85bf3-5232-4dd9-8259-4b283f271b1f"
   },
   "outputs": [
    {
     "name": "stdout",
     "output_type": "stream",
     "text": [
      "create 'M10 Processing' class\n",
      "file path : ./M10\\20230508-PRO-DSE007-080523#2(L).M10\n",
      "20230508-PRO-DSE007-080523#2(L)\n",
      "100\n",
      "723\n",
      "100\n",
      "0 / 2\n",
      "723\n",
      "Done\n",
      "write excel, Done \n",
      "create 'M10 Processing' class\n",
      "file path : ./M10\\m10_sample0.M10\n",
      "m10_sample0\n",
      "109\n",
      "741\n",
      "1373\n",
      "2005\n",
      "2637\n",
      "3269\n",
      "3901\n",
      "4533\n",
      "5165\n",
      "5797\n",
      "109\n",
      "0 / 10\n",
      "741\n",
      "1373\n",
      "2005\n",
      "2637\n",
      "3269\n",
      "3901\n",
      "4533\n",
      "5165\n",
      "5797\n",
      "Done\n",
      "write excel, Done \n"
     ]
    }
   ],
   "source": [
    "m10_batch(folder_path=\"./M10\", output_dir=\"./XLSX\")"
   ]
  },
  {
   "cell_type": "code",
   "execution_count": null,
   "id": "5ba01a0c-b828-42fd-8de1-2e1127d6af40",
   "metadata": {},
   "outputs": [],
   "source": []
  }
 ],
 "metadata": {
  "colab": {
   "gpuType": "T4",
   "provenance": []
  },
  "gpuClass": "standard",
  "kernelspec": {
   "display_name": "Python 3 (ipykernel)",
   "language": "python",
   "name": "python3"
  },
  "language_info": {
   "codemirror_mode": {
    "name": "ipython",
    "version": 3
   },
   "file_extension": ".py",
   "mimetype": "text/x-python",
   "name": "python",
   "nbconvert_exporter": "python",
   "pygments_lexer": "ipython3",
   "version": "3.9.7"
  }
 },
 "nbformat": 4,
 "nbformat_minor": 5
}
